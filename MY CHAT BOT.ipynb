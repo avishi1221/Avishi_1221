{
 "cells": [
  {
   "cell_type": "code",
   "execution_count": 1,
   "id": "9c157939-5b0c-4306-91e6-96c4f35595d2",
   "metadata": {},
   "outputs": [],
   "source": [
    "import nltk\n",
    "from nltk.chat.util import Chat, reflections\n"
   ]
  },
  {
   "cell_type": "code",
   "execution_count": 6,
   "id": "e9808f2a-ea4e-4889-8c18-7d603b5e28fd",
   "metadata": {},
   "outputs": [],
   "source": [
    "patterns = [\n",
    "    (r'hi|hello|hey', ['Hello!', 'sup!', 'Hey!']),\n",
    "    (r'how are you', ['I am doing well, how about you?', 'I am fine, thank you for asking.']),\n",
    "    (r'what is your name', ['My name is AVISHI.', 'You can call me AVI.']),\n",
    "    (r'(.*) your name', ['My name is Chatbot.', 'You can call me Chatbot.']),\n",
    "    (r'bye|goodbye', ['Goodbye!', 'See you later!', 'tada!']),\n",
    "]\n",
    "\n",
    "chatbot = Chat(patterns, reflections)\n"
   ]
  },
  {
   "cell_type": "code",
   "execution_count": 7,
   "id": "a3ad7cc3-34d5-4f19-8e45-d6e7620bc821",
   "metadata": {},
   "outputs": [
    {
     "name": "stdout",
     "output_type": "stream",
     "text": [
      "Welcome to the Chatbot. Type 'quit' to exit.\n"
     ]
    },
    {
     "name": "stdin",
     "output_type": "stream",
     "text": [
      "You:  what is your name\n"
     ]
    },
    {
     "name": "stdout",
     "output_type": "stream",
     "text": [
      "Chatbot: My name is AVISHI.\n"
     ]
    },
    {
     "name": "stdin",
     "output_type": "stream",
     "text": [
      "You:  how are you\n"
     ]
    },
    {
     "name": "stdout",
     "output_type": "stream",
     "text": [
      "Chatbot: I am doing well, how about you?\n"
     ]
    },
    {
     "name": "stdin",
     "output_type": "stream",
     "text": [
      "You:  (.*) your name\n"
     ]
    },
    {
     "name": "stdout",
     "output_type": "stream",
     "text": [
      "Chatbot: You can call me Chatbot.\n"
     ]
    },
    {
     "name": "stdin",
     "output_type": "stream",
     "text": [
      "You:  quit\n"
     ]
    }
   ],
   "source": [
    "def chat_with_bot():\n",
    "    print(\"Welcome to the Chatbot. Type 'quit' to exit.\")\n",
    "    while True:\n",
    "        user_input = input(\"You: \")\n",
    "        if user_input.lower() == 'quit':\n",
    "            break\n",
    "        response = chatbot.respond(user_input)\n",
    "        print(\"Chatbot:\", response)\n",
    "\n",
    "if __name__ == \"__main__\":\n",
    "    chat_with_bot()"
   ]
  },
  {
   "cell_type": "code",
   "execution_count": null,
   "id": "8a5cedf6-3403-4ef9-8c88-90181f0818f7",
   "metadata": {},
   "outputs": [],
   "source": []
  },
  {
   "cell_type": "code",
   "execution_count": null,
   "id": "f070d71a-deaa-4c96-a411-6ad2af1e22c3",
   "metadata": {},
   "outputs": [],
   "source": []
  },
  {
   "cell_type": "code",
   "execution_count": null,
   "id": "9fb74be8-5ea9-4e31-b292-6f2100bc4489",
   "metadata": {},
   "outputs": [],
   "source": []
  },
  {
   "cell_type": "code",
   "execution_count": null,
   "id": "151ffcd2-4d97-428a-a8b9-2ca6174d3a47",
   "metadata": {},
   "outputs": [],
   "source": []
  }
 ],
 "metadata": {
  "kernelspec": {
   "display_name": "Python 3 (ipykernel)",
   "language": "python",
   "name": "python3"
  },
  "language_info": {
   "codemirror_mode": {
    "name": "ipython",
    "version": 3
   },
   "file_extension": ".py",
   "mimetype": "text/x-python",
   "name": "python",
   "nbconvert_exporter": "python",
   "pygments_lexer": "ipython3",
   "version": "3.11.8"
  }
 },
 "nbformat": 4,
 "nbformat_minor": 5
}
