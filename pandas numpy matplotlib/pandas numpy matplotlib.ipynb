{
 "cells": [
  {
   "cell_type": "code",
   "execution_count": 106,
   "id": "140a22a2-fd1e-49ed-8485-b85a9b7f3421",
   "metadata": {},
   "outputs": [],
   "source": [
    "import pandas as pd\n",
    "import numpy as np\n",
    "\n"
   ]
  },
  {
   "cell_type": "code",
   "execution_count": 8,
   "id": "cd6565f0-0191-4efb-b537-d108d06721fa",
   "metadata": {},
   "outputs": [],
   "source": [
    "deliveries_dataset=pd.read_csv(\"deliveries.csv\")"
   ]
  },
  {
   "cell_type": "code",
   "execution_count": 9,
   "id": "6d7ed095-fe5f-4279-9f1a-22af5950d855",
   "metadata": {},
   "outputs": [
    {
     "data": {
      "text/html": [
       "<div>\n",
       "<style scoped>\n",
       "    .dataframe tbody tr th:only-of-type {\n",
       "        vertical-align: middle;\n",
       "    }\n",
       "\n",
       "    .dataframe tbody tr th {\n",
       "        vertical-align: top;\n",
       "    }\n",
       "\n",
       "    .dataframe thead th {\n",
       "        text-align: right;\n",
       "    }\n",
       "</style>\n",
       "<table border=\"1\" class=\"dataframe\">\n",
       "  <thead>\n",
       "    <tr style=\"text-align: right;\">\n",
       "      <th></th>\n",
       "      <th>match_id</th>\n",
       "      <th>inning</th>\n",
       "      <th>batting_team</th>\n",
       "      <th>bowling_team</th>\n",
       "      <th>over</th>\n",
       "      <th>ball</th>\n",
       "      <th>batsman</th>\n",
       "      <th>non_striker</th>\n",
       "      <th>bowler</th>\n",
       "      <th>is_super_over</th>\n",
       "      <th>...</th>\n",
       "      <th>bye_runs</th>\n",
       "      <th>legbye_runs</th>\n",
       "      <th>noball_runs</th>\n",
       "      <th>penalty_runs</th>\n",
       "      <th>batsman_runs</th>\n",
       "      <th>extra_runs</th>\n",
       "      <th>total_runs</th>\n",
       "      <th>player_dismissed</th>\n",
       "      <th>dismissal_kind</th>\n",
       "      <th>fielder</th>\n",
       "    </tr>\n",
       "  </thead>\n",
       "  <tbody>\n",
       "    <tr>\n",
       "      <th>0</th>\n",
       "      <td>1</td>\n",
       "      <td>1</td>\n",
       "      <td>Sunrisers Hyderabad</td>\n",
       "      <td>Royal Challengers Bangalore</td>\n",
       "      <td>1</td>\n",
       "      <td>1</td>\n",
       "      <td>DA Warner</td>\n",
       "      <td>S Dhawan</td>\n",
       "      <td>TS Mills</td>\n",
       "      <td>0</td>\n",
       "      <td>...</td>\n",
       "      <td>0</td>\n",
       "      <td>0</td>\n",
       "      <td>0</td>\n",
       "      <td>0</td>\n",
       "      <td>0</td>\n",
       "      <td>0</td>\n",
       "      <td>0</td>\n",
       "      <td>NaN</td>\n",
       "      <td>NaN</td>\n",
       "      <td>NaN</td>\n",
       "    </tr>\n",
       "    <tr>\n",
       "      <th>1</th>\n",
       "      <td>1</td>\n",
       "      <td>1</td>\n",
       "      <td>Sunrisers Hyderabad</td>\n",
       "      <td>Royal Challengers Bangalore</td>\n",
       "      <td>1</td>\n",
       "      <td>2</td>\n",
       "      <td>DA Warner</td>\n",
       "      <td>S Dhawan</td>\n",
       "      <td>TS Mills</td>\n",
       "      <td>0</td>\n",
       "      <td>...</td>\n",
       "      <td>0</td>\n",
       "      <td>0</td>\n",
       "      <td>0</td>\n",
       "      <td>0</td>\n",
       "      <td>0</td>\n",
       "      <td>0</td>\n",
       "      <td>0</td>\n",
       "      <td>NaN</td>\n",
       "      <td>NaN</td>\n",
       "      <td>NaN</td>\n",
       "    </tr>\n",
       "    <tr>\n",
       "      <th>2</th>\n",
       "      <td>1</td>\n",
       "      <td>1</td>\n",
       "      <td>Sunrisers Hyderabad</td>\n",
       "      <td>Royal Challengers Bangalore</td>\n",
       "      <td>1</td>\n",
       "      <td>3</td>\n",
       "      <td>DA Warner</td>\n",
       "      <td>S Dhawan</td>\n",
       "      <td>TS Mills</td>\n",
       "      <td>0</td>\n",
       "      <td>...</td>\n",
       "      <td>0</td>\n",
       "      <td>0</td>\n",
       "      <td>0</td>\n",
       "      <td>0</td>\n",
       "      <td>4</td>\n",
       "      <td>0</td>\n",
       "      <td>4</td>\n",
       "      <td>NaN</td>\n",
       "      <td>NaN</td>\n",
       "      <td>NaN</td>\n",
       "    </tr>\n",
       "    <tr>\n",
       "      <th>3</th>\n",
       "      <td>1</td>\n",
       "      <td>1</td>\n",
       "      <td>Sunrisers Hyderabad</td>\n",
       "      <td>Royal Challengers Bangalore</td>\n",
       "      <td>1</td>\n",
       "      <td>4</td>\n",
       "      <td>DA Warner</td>\n",
       "      <td>S Dhawan</td>\n",
       "      <td>TS Mills</td>\n",
       "      <td>0</td>\n",
       "      <td>...</td>\n",
       "      <td>0</td>\n",
       "      <td>0</td>\n",
       "      <td>0</td>\n",
       "      <td>0</td>\n",
       "      <td>0</td>\n",
       "      <td>0</td>\n",
       "      <td>0</td>\n",
       "      <td>NaN</td>\n",
       "      <td>NaN</td>\n",
       "      <td>NaN</td>\n",
       "    </tr>\n",
       "    <tr>\n",
       "      <th>4</th>\n",
       "      <td>1</td>\n",
       "      <td>1</td>\n",
       "      <td>Sunrisers Hyderabad</td>\n",
       "      <td>Royal Challengers Bangalore</td>\n",
       "      <td>1</td>\n",
       "      <td>5</td>\n",
       "      <td>DA Warner</td>\n",
       "      <td>S Dhawan</td>\n",
       "      <td>TS Mills</td>\n",
       "      <td>0</td>\n",
       "      <td>...</td>\n",
       "      <td>0</td>\n",
       "      <td>0</td>\n",
       "      <td>0</td>\n",
       "      <td>0</td>\n",
       "      <td>0</td>\n",
       "      <td>2</td>\n",
       "      <td>2</td>\n",
       "      <td>NaN</td>\n",
       "      <td>NaN</td>\n",
       "      <td>NaN</td>\n",
       "    </tr>\n",
       "    <tr>\n",
       "      <th>...</th>\n",
       "      <td>...</td>\n",
       "      <td>...</td>\n",
       "      <td>...</td>\n",
       "      <td>...</td>\n",
       "      <td>...</td>\n",
       "      <td>...</td>\n",
       "      <td>...</td>\n",
       "      <td>...</td>\n",
       "      <td>...</td>\n",
       "      <td>...</td>\n",
       "      <td>...</td>\n",
       "      <td>...</td>\n",
       "      <td>...</td>\n",
       "      <td>...</td>\n",
       "      <td>...</td>\n",
       "      <td>...</td>\n",
       "      <td>...</td>\n",
       "      <td>...</td>\n",
       "      <td>...</td>\n",
       "      <td>...</td>\n",
       "      <td>...</td>\n",
       "    </tr>\n",
       "    <tr>\n",
       "      <th>179073</th>\n",
       "      <td>11415</td>\n",
       "      <td>2</td>\n",
       "      <td>Chennai Super Kings</td>\n",
       "      <td>Mumbai Indians</td>\n",
       "      <td>20</td>\n",
       "      <td>2</td>\n",
       "      <td>RA Jadeja</td>\n",
       "      <td>SR Watson</td>\n",
       "      <td>SL Malinga</td>\n",
       "      <td>0</td>\n",
       "      <td>...</td>\n",
       "      <td>0</td>\n",
       "      <td>0</td>\n",
       "      <td>0</td>\n",
       "      <td>0</td>\n",
       "      <td>1</td>\n",
       "      <td>0</td>\n",
       "      <td>1</td>\n",
       "      <td>NaN</td>\n",
       "      <td>NaN</td>\n",
       "      <td>NaN</td>\n",
       "    </tr>\n",
       "    <tr>\n",
       "      <th>179074</th>\n",
       "      <td>11415</td>\n",
       "      <td>2</td>\n",
       "      <td>Chennai Super Kings</td>\n",
       "      <td>Mumbai Indians</td>\n",
       "      <td>20</td>\n",
       "      <td>3</td>\n",
       "      <td>SR Watson</td>\n",
       "      <td>RA Jadeja</td>\n",
       "      <td>SL Malinga</td>\n",
       "      <td>0</td>\n",
       "      <td>...</td>\n",
       "      <td>0</td>\n",
       "      <td>0</td>\n",
       "      <td>0</td>\n",
       "      <td>0</td>\n",
       "      <td>2</td>\n",
       "      <td>0</td>\n",
       "      <td>2</td>\n",
       "      <td>NaN</td>\n",
       "      <td>NaN</td>\n",
       "      <td>NaN</td>\n",
       "    </tr>\n",
       "    <tr>\n",
       "      <th>179075</th>\n",
       "      <td>11415</td>\n",
       "      <td>2</td>\n",
       "      <td>Chennai Super Kings</td>\n",
       "      <td>Mumbai Indians</td>\n",
       "      <td>20</td>\n",
       "      <td>4</td>\n",
       "      <td>SR Watson</td>\n",
       "      <td>RA Jadeja</td>\n",
       "      <td>SL Malinga</td>\n",
       "      <td>0</td>\n",
       "      <td>...</td>\n",
       "      <td>0</td>\n",
       "      <td>0</td>\n",
       "      <td>0</td>\n",
       "      <td>0</td>\n",
       "      <td>1</td>\n",
       "      <td>0</td>\n",
       "      <td>1</td>\n",
       "      <td>SR Watson</td>\n",
       "      <td>run out</td>\n",
       "      <td>KH Pandya</td>\n",
       "    </tr>\n",
       "    <tr>\n",
       "      <th>179076</th>\n",
       "      <td>11415</td>\n",
       "      <td>2</td>\n",
       "      <td>Chennai Super Kings</td>\n",
       "      <td>Mumbai Indians</td>\n",
       "      <td>20</td>\n",
       "      <td>5</td>\n",
       "      <td>SN Thakur</td>\n",
       "      <td>RA Jadeja</td>\n",
       "      <td>SL Malinga</td>\n",
       "      <td>0</td>\n",
       "      <td>...</td>\n",
       "      <td>0</td>\n",
       "      <td>0</td>\n",
       "      <td>0</td>\n",
       "      <td>0</td>\n",
       "      <td>2</td>\n",
       "      <td>0</td>\n",
       "      <td>2</td>\n",
       "      <td>NaN</td>\n",
       "      <td>NaN</td>\n",
       "      <td>NaN</td>\n",
       "    </tr>\n",
       "    <tr>\n",
       "      <th>179077</th>\n",
       "      <td>11415</td>\n",
       "      <td>2</td>\n",
       "      <td>Chennai Super Kings</td>\n",
       "      <td>Mumbai Indians</td>\n",
       "      <td>20</td>\n",
       "      <td>6</td>\n",
       "      <td>SN Thakur</td>\n",
       "      <td>RA Jadeja</td>\n",
       "      <td>SL Malinga</td>\n",
       "      <td>0</td>\n",
       "      <td>...</td>\n",
       "      <td>0</td>\n",
       "      <td>0</td>\n",
       "      <td>0</td>\n",
       "      <td>0</td>\n",
       "      <td>0</td>\n",
       "      <td>0</td>\n",
       "      <td>0</td>\n",
       "      <td>SN Thakur</td>\n",
       "      <td>lbw</td>\n",
       "      <td>NaN</td>\n",
       "    </tr>\n",
       "  </tbody>\n",
       "</table>\n",
       "<p>179078 rows × 21 columns</p>\n",
       "</div>"
      ],
      "text/plain": [
       "        match_id  inning         batting_team                 bowling_team  \\\n",
       "0              1       1  Sunrisers Hyderabad  Royal Challengers Bangalore   \n",
       "1              1       1  Sunrisers Hyderabad  Royal Challengers Bangalore   \n",
       "2              1       1  Sunrisers Hyderabad  Royal Challengers Bangalore   \n",
       "3              1       1  Sunrisers Hyderabad  Royal Challengers Bangalore   \n",
       "4              1       1  Sunrisers Hyderabad  Royal Challengers Bangalore   \n",
       "...          ...     ...                  ...                          ...   \n",
       "179073     11415       2  Chennai Super Kings               Mumbai Indians   \n",
       "179074     11415       2  Chennai Super Kings               Mumbai Indians   \n",
       "179075     11415       2  Chennai Super Kings               Mumbai Indians   \n",
       "179076     11415       2  Chennai Super Kings               Mumbai Indians   \n",
       "179077     11415       2  Chennai Super Kings               Mumbai Indians   \n",
       "\n",
       "        over  ball    batsman non_striker      bowler  is_super_over  ...  \\\n",
       "0          1     1  DA Warner    S Dhawan    TS Mills              0  ...   \n",
       "1          1     2  DA Warner    S Dhawan    TS Mills              0  ...   \n",
       "2          1     3  DA Warner    S Dhawan    TS Mills              0  ...   \n",
       "3          1     4  DA Warner    S Dhawan    TS Mills              0  ...   \n",
       "4          1     5  DA Warner    S Dhawan    TS Mills              0  ...   \n",
       "...      ...   ...        ...         ...         ...            ...  ...   \n",
       "179073    20     2  RA Jadeja   SR Watson  SL Malinga              0  ...   \n",
       "179074    20     3  SR Watson   RA Jadeja  SL Malinga              0  ...   \n",
       "179075    20     4  SR Watson   RA Jadeja  SL Malinga              0  ...   \n",
       "179076    20     5  SN Thakur   RA Jadeja  SL Malinga              0  ...   \n",
       "179077    20     6  SN Thakur   RA Jadeja  SL Malinga              0  ...   \n",
       "\n",
       "        bye_runs  legbye_runs  noball_runs  penalty_runs  batsman_runs  \\\n",
       "0              0            0            0             0             0   \n",
       "1              0            0            0             0             0   \n",
       "2              0            0            0             0             4   \n",
       "3              0            0            0             0             0   \n",
       "4              0            0            0             0             0   \n",
       "...          ...          ...          ...           ...           ...   \n",
       "179073         0            0            0             0             1   \n",
       "179074         0            0            0             0             2   \n",
       "179075         0            0            0             0             1   \n",
       "179076         0            0            0             0             2   \n",
       "179077         0            0            0             0             0   \n",
       "\n",
       "        extra_runs  total_runs  player_dismissed dismissal_kind    fielder  \n",
       "0                0           0               NaN            NaN        NaN  \n",
       "1                0           0               NaN            NaN        NaN  \n",
       "2                0           4               NaN            NaN        NaN  \n",
       "3                0           0               NaN            NaN        NaN  \n",
       "4                2           2               NaN            NaN        NaN  \n",
       "...            ...         ...               ...            ...        ...  \n",
       "179073           0           1               NaN            NaN        NaN  \n",
       "179074           0           2               NaN            NaN        NaN  \n",
       "179075           0           1         SR Watson        run out  KH Pandya  \n",
       "179076           0           2               NaN            NaN        NaN  \n",
       "179077           0           0         SN Thakur            lbw        NaN  \n",
       "\n",
       "[179078 rows x 21 columns]"
      ]
     },
     "execution_count": 9,
     "metadata": {},
     "output_type": "execute_result"
    }
   ],
   "source": [
    "deliveries_dataset"
   ]
  },
  {
   "cell_type": "code",
   "execution_count": 15,
   "id": "92ac9563-b263-4e78-86d3-74c1957fb311",
   "metadata": {},
   "outputs": [],
   "source": [
    "matches_dataset=pd.read_csv(\"matches.csv\")"
   ]
  },
  {
   "cell_type": "code",
   "execution_count": 16,
   "id": "d65f5573-6ffc-49f1-ab98-796dab6fe877",
   "metadata": {},
   "outputs": [
    {
     "data": {
      "text/html": [
       "<div>\n",
       "<style scoped>\n",
       "    .dataframe tbody tr th:only-of-type {\n",
       "        vertical-align: middle;\n",
       "    }\n",
       "\n",
       "    .dataframe tbody tr th {\n",
       "        vertical-align: top;\n",
       "    }\n",
       "\n",
       "    .dataframe thead th {\n",
       "        text-align: right;\n",
       "    }\n",
       "</style>\n",
       "<table border=\"1\" class=\"dataframe\">\n",
       "  <thead>\n",
       "    <tr style=\"text-align: right;\">\n",
       "      <th></th>\n",
       "      <th>id</th>\n",
       "      <th>season</th>\n",
       "      <th>city</th>\n",
       "      <th>date</th>\n",
       "      <th>team1</th>\n",
       "      <th>team2</th>\n",
       "      <th>toss_winner</th>\n",
       "      <th>toss_decision</th>\n",
       "      <th>result</th>\n",
       "      <th>dl_applied</th>\n",
       "      <th>winner</th>\n",
       "      <th>win_by_runs</th>\n",
       "      <th>win_by_wickets</th>\n",
       "      <th>player_of_match</th>\n",
       "      <th>venue</th>\n",
       "      <th>umpire1</th>\n",
       "      <th>umpire2</th>\n",
       "      <th>umpire3</th>\n",
       "    </tr>\n",
       "  </thead>\n",
       "  <tbody>\n",
       "    <tr>\n",
       "      <th>0</th>\n",
       "      <td>1</td>\n",
       "      <td>2017</td>\n",
       "      <td>Hyderabad</td>\n",
       "      <td>2017-04-05</td>\n",
       "      <td>Sunrisers Hyderabad</td>\n",
       "      <td>Royal Challengers Bangalore</td>\n",
       "      <td>Royal Challengers Bangalore</td>\n",
       "      <td>field</td>\n",
       "      <td>normal</td>\n",
       "      <td>0</td>\n",
       "      <td>Sunrisers Hyderabad</td>\n",
       "      <td>35</td>\n",
       "      <td>0</td>\n",
       "      <td>Yuvraj Singh</td>\n",
       "      <td>Rajiv Gandhi International Stadium, Uppal</td>\n",
       "      <td>AY Dandekar</td>\n",
       "      <td>NJ Llong</td>\n",
       "      <td>NaN</td>\n",
       "    </tr>\n",
       "    <tr>\n",
       "      <th>1</th>\n",
       "      <td>2</td>\n",
       "      <td>2017</td>\n",
       "      <td>Pune</td>\n",
       "      <td>2017-04-06</td>\n",
       "      <td>Mumbai Indians</td>\n",
       "      <td>Rising Pune Supergiant</td>\n",
       "      <td>Rising Pune Supergiant</td>\n",
       "      <td>field</td>\n",
       "      <td>normal</td>\n",
       "      <td>0</td>\n",
       "      <td>Rising Pune Supergiant</td>\n",
       "      <td>0</td>\n",
       "      <td>7</td>\n",
       "      <td>SPD Smith</td>\n",
       "      <td>Maharashtra Cricket Association Stadium</td>\n",
       "      <td>A Nand Kishore</td>\n",
       "      <td>S Ravi</td>\n",
       "      <td>NaN</td>\n",
       "    </tr>\n",
       "    <tr>\n",
       "      <th>2</th>\n",
       "      <td>3</td>\n",
       "      <td>2017</td>\n",
       "      <td>Rajkot</td>\n",
       "      <td>2017-04-07</td>\n",
       "      <td>Gujarat Lions</td>\n",
       "      <td>Kolkata Knight Riders</td>\n",
       "      <td>Kolkata Knight Riders</td>\n",
       "      <td>field</td>\n",
       "      <td>normal</td>\n",
       "      <td>0</td>\n",
       "      <td>Kolkata Knight Riders</td>\n",
       "      <td>0</td>\n",
       "      <td>10</td>\n",
       "      <td>CA Lynn</td>\n",
       "      <td>Saurashtra Cricket Association Stadium</td>\n",
       "      <td>Nitin Menon</td>\n",
       "      <td>CK Nandan</td>\n",
       "      <td>NaN</td>\n",
       "    </tr>\n",
       "    <tr>\n",
       "      <th>3</th>\n",
       "      <td>4</td>\n",
       "      <td>2017</td>\n",
       "      <td>Indore</td>\n",
       "      <td>2017-04-08</td>\n",
       "      <td>Rising Pune Supergiant</td>\n",
       "      <td>Kings XI Punjab</td>\n",
       "      <td>Kings XI Punjab</td>\n",
       "      <td>field</td>\n",
       "      <td>normal</td>\n",
       "      <td>0</td>\n",
       "      <td>Kings XI Punjab</td>\n",
       "      <td>0</td>\n",
       "      <td>6</td>\n",
       "      <td>GJ Maxwell</td>\n",
       "      <td>Holkar Cricket Stadium</td>\n",
       "      <td>AK Chaudhary</td>\n",
       "      <td>C Shamshuddin</td>\n",
       "      <td>NaN</td>\n",
       "    </tr>\n",
       "    <tr>\n",
       "      <th>4</th>\n",
       "      <td>5</td>\n",
       "      <td>2017</td>\n",
       "      <td>Bangalore</td>\n",
       "      <td>2017-04-08</td>\n",
       "      <td>Royal Challengers Bangalore</td>\n",
       "      <td>Delhi Daredevils</td>\n",
       "      <td>Royal Challengers Bangalore</td>\n",
       "      <td>bat</td>\n",
       "      <td>normal</td>\n",
       "      <td>0</td>\n",
       "      <td>Royal Challengers Bangalore</td>\n",
       "      <td>15</td>\n",
       "      <td>0</td>\n",
       "      <td>KM Jadhav</td>\n",
       "      <td>M Chinnaswamy Stadium</td>\n",
       "      <td>NaN</td>\n",
       "      <td>NaN</td>\n",
       "      <td>NaN</td>\n",
       "    </tr>\n",
       "    <tr>\n",
       "      <th>...</th>\n",
       "      <td>...</td>\n",
       "      <td>...</td>\n",
       "      <td>...</td>\n",
       "      <td>...</td>\n",
       "      <td>...</td>\n",
       "      <td>...</td>\n",
       "      <td>...</td>\n",
       "      <td>...</td>\n",
       "      <td>...</td>\n",
       "      <td>...</td>\n",
       "      <td>...</td>\n",
       "      <td>...</td>\n",
       "      <td>...</td>\n",
       "      <td>...</td>\n",
       "      <td>...</td>\n",
       "      <td>...</td>\n",
       "      <td>...</td>\n",
       "      <td>...</td>\n",
       "    </tr>\n",
       "    <tr>\n",
       "      <th>751</th>\n",
       "      <td>11347</td>\n",
       "      <td>2019</td>\n",
       "      <td>Mumbai</td>\n",
       "      <td>05/05/19</td>\n",
       "      <td>Kolkata Knight Riders</td>\n",
       "      <td>Mumbai Indians</td>\n",
       "      <td>Mumbai Indians</td>\n",
       "      <td>field</td>\n",
       "      <td>normal</td>\n",
       "      <td>0</td>\n",
       "      <td>Mumbai Indians</td>\n",
       "      <td>0</td>\n",
       "      <td>9</td>\n",
       "      <td>HH Pandya</td>\n",
       "      <td>Wankhede Stadium</td>\n",
       "      <td>Nanda Kishore</td>\n",
       "      <td>O Nandan</td>\n",
       "      <td>S Ravi</td>\n",
       "    </tr>\n",
       "    <tr>\n",
       "      <th>752</th>\n",
       "      <td>11412</td>\n",
       "      <td>2019</td>\n",
       "      <td>Chennai</td>\n",
       "      <td>07/05/19</td>\n",
       "      <td>Chennai Super Kings</td>\n",
       "      <td>Mumbai Indians</td>\n",
       "      <td>Chennai Super Kings</td>\n",
       "      <td>bat</td>\n",
       "      <td>normal</td>\n",
       "      <td>0</td>\n",
       "      <td>Mumbai Indians</td>\n",
       "      <td>0</td>\n",
       "      <td>6</td>\n",
       "      <td>AS Yadav</td>\n",
       "      <td>M. A. Chidambaram Stadium</td>\n",
       "      <td>Nigel Llong</td>\n",
       "      <td>Nitin Menon</td>\n",
       "      <td>Ian Gould</td>\n",
       "    </tr>\n",
       "    <tr>\n",
       "      <th>753</th>\n",
       "      <td>11413</td>\n",
       "      <td>2019</td>\n",
       "      <td>Visakhapatnam</td>\n",
       "      <td>08/05/19</td>\n",
       "      <td>Sunrisers Hyderabad</td>\n",
       "      <td>Delhi Capitals</td>\n",
       "      <td>Delhi Capitals</td>\n",
       "      <td>field</td>\n",
       "      <td>normal</td>\n",
       "      <td>0</td>\n",
       "      <td>Delhi Capitals</td>\n",
       "      <td>0</td>\n",
       "      <td>2</td>\n",
       "      <td>RR Pant</td>\n",
       "      <td>ACA-VDCA Stadium</td>\n",
       "      <td>NaN</td>\n",
       "      <td>NaN</td>\n",
       "      <td>NaN</td>\n",
       "    </tr>\n",
       "    <tr>\n",
       "      <th>754</th>\n",
       "      <td>11414</td>\n",
       "      <td>2019</td>\n",
       "      <td>Visakhapatnam</td>\n",
       "      <td>10/05/19</td>\n",
       "      <td>Delhi Capitals</td>\n",
       "      <td>Chennai Super Kings</td>\n",
       "      <td>Chennai Super Kings</td>\n",
       "      <td>field</td>\n",
       "      <td>normal</td>\n",
       "      <td>0</td>\n",
       "      <td>Chennai Super Kings</td>\n",
       "      <td>0</td>\n",
       "      <td>6</td>\n",
       "      <td>F du Plessis</td>\n",
       "      <td>ACA-VDCA Stadium</td>\n",
       "      <td>Sundaram Ravi</td>\n",
       "      <td>Bruce Oxenford</td>\n",
       "      <td>Chettithody Shamshuddin</td>\n",
       "    </tr>\n",
       "    <tr>\n",
       "      <th>755</th>\n",
       "      <td>11415</td>\n",
       "      <td>2019</td>\n",
       "      <td>Hyderabad</td>\n",
       "      <td>12/05/19</td>\n",
       "      <td>Mumbai Indians</td>\n",
       "      <td>Chennai Super Kings</td>\n",
       "      <td>Mumbai Indians</td>\n",
       "      <td>bat</td>\n",
       "      <td>normal</td>\n",
       "      <td>0</td>\n",
       "      <td>Mumbai Indians</td>\n",
       "      <td>1</td>\n",
       "      <td>0</td>\n",
       "      <td>JJ Bumrah</td>\n",
       "      <td>Rajiv Gandhi Intl. Cricket Stadium</td>\n",
       "      <td>Nitin Menon</td>\n",
       "      <td>Ian Gould</td>\n",
       "      <td>Nigel Llong</td>\n",
       "    </tr>\n",
       "  </tbody>\n",
       "</table>\n",
       "<p>756 rows × 18 columns</p>\n",
       "</div>"
      ],
      "text/plain": [
       "        id  season           city        date                        team1  \\\n",
       "0        1    2017      Hyderabad  2017-04-05          Sunrisers Hyderabad   \n",
       "1        2    2017           Pune  2017-04-06               Mumbai Indians   \n",
       "2        3    2017         Rajkot  2017-04-07                Gujarat Lions   \n",
       "3        4    2017         Indore  2017-04-08       Rising Pune Supergiant   \n",
       "4        5    2017      Bangalore  2017-04-08  Royal Challengers Bangalore   \n",
       "..     ...     ...            ...         ...                          ...   \n",
       "751  11347    2019         Mumbai    05/05/19        Kolkata Knight Riders   \n",
       "752  11412    2019        Chennai    07/05/19          Chennai Super Kings   \n",
       "753  11413    2019  Visakhapatnam    08/05/19          Sunrisers Hyderabad   \n",
       "754  11414    2019  Visakhapatnam    10/05/19               Delhi Capitals   \n",
       "755  11415    2019      Hyderabad    12/05/19               Mumbai Indians   \n",
       "\n",
       "                           team2                  toss_winner toss_decision  \\\n",
       "0    Royal Challengers Bangalore  Royal Challengers Bangalore         field   \n",
       "1         Rising Pune Supergiant       Rising Pune Supergiant         field   \n",
       "2          Kolkata Knight Riders        Kolkata Knight Riders         field   \n",
       "3                Kings XI Punjab              Kings XI Punjab         field   \n",
       "4               Delhi Daredevils  Royal Challengers Bangalore           bat   \n",
       "..                           ...                          ...           ...   \n",
       "751               Mumbai Indians               Mumbai Indians         field   \n",
       "752               Mumbai Indians          Chennai Super Kings           bat   \n",
       "753               Delhi Capitals               Delhi Capitals         field   \n",
       "754          Chennai Super Kings          Chennai Super Kings         field   \n",
       "755          Chennai Super Kings               Mumbai Indians           bat   \n",
       "\n",
       "     result  dl_applied                       winner  win_by_runs  \\\n",
       "0    normal           0          Sunrisers Hyderabad           35   \n",
       "1    normal           0       Rising Pune Supergiant            0   \n",
       "2    normal           0        Kolkata Knight Riders            0   \n",
       "3    normal           0              Kings XI Punjab            0   \n",
       "4    normal           0  Royal Challengers Bangalore           15   \n",
       "..      ...         ...                          ...          ...   \n",
       "751  normal           0               Mumbai Indians            0   \n",
       "752  normal           0               Mumbai Indians            0   \n",
       "753  normal           0               Delhi Capitals            0   \n",
       "754  normal           0          Chennai Super Kings            0   \n",
       "755  normal           0               Mumbai Indians            1   \n",
       "\n",
       "     win_by_wickets player_of_match  \\\n",
       "0                 0    Yuvraj Singh   \n",
       "1                 7       SPD Smith   \n",
       "2                10         CA Lynn   \n",
       "3                 6      GJ Maxwell   \n",
       "4                 0       KM Jadhav   \n",
       "..              ...             ...   \n",
       "751               9       HH Pandya   \n",
       "752               6        AS Yadav   \n",
       "753               2         RR Pant   \n",
       "754               6    F du Plessis   \n",
       "755               0       JJ Bumrah   \n",
       "\n",
       "                                         venue         umpire1  \\\n",
       "0    Rajiv Gandhi International Stadium, Uppal     AY Dandekar   \n",
       "1      Maharashtra Cricket Association Stadium  A Nand Kishore   \n",
       "2       Saurashtra Cricket Association Stadium     Nitin Menon   \n",
       "3                       Holkar Cricket Stadium    AK Chaudhary   \n",
       "4                        M Chinnaswamy Stadium             NaN   \n",
       "..                                         ...             ...   \n",
       "751                           Wankhede Stadium   Nanda Kishore   \n",
       "752                  M. A. Chidambaram Stadium     Nigel Llong   \n",
       "753                           ACA-VDCA Stadium             NaN   \n",
       "754                           ACA-VDCA Stadium   Sundaram Ravi   \n",
       "755         Rajiv Gandhi Intl. Cricket Stadium     Nitin Menon   \n",
       "\n",
       "            umpire2                  umpire3  \n",
       "0          NJ Llong                      NaN  \n",
       "1            S Ravi                      NaN  \n",
       "2         CK Nandan                      NaN  \n",
       "3     C Shamshuddin                      NaN  \n",
       "4               NaN                      NaN  \n",
       "..              ...                      ...  \n",
       "751        O Nandan                   S Ravi  \n",
       "752     Nitin Menon                Ian Gould  \n",
       "753             NaN                      NaN  \n",
       "754  Bruce Oxenford  Chettithody Shamshuddin  \n",
       "755       Ian Gould              Nigel Llong  \n",
       "\n",
       "[756 rows x 18 columns]"
      ]
     },
     "execution_count": 16,
     "metadata": {},
     "output_type": "execute_result"
    }
   ],
   "source": [
    "matches_dataset"
   ]
  },
  {
   "cell_type": "code",
   "execution_count": 31,
   "id": "845f384b-84dc-463c-93c8-82b663a76260",
   "metadata": {},
   "outputs": [],
   "source": [
    "import pandas as pd\n",
    "import numpy as np"
   ]
  },
  {
   "cell_type": "code",
   "execution_count": 4,
   "id": "9506cbc4-e0d2-44b6-88e3-c0b58531e17e",
   "metadata": {},
   "outputs": [],
   "source": [
    "df = pd.read_csv(\"matches.csv\")"
   ]
  },
  {
   "cell_type": "code",
   "execution_count": 3,
   "id": "1b0e9a36-9d89-4dae-83cd-1b88c7706455",
   "metadata": {},
   "outputs": [],
   "source": [
    "import pandas as pd"
   ]
  },
  {
   "cell_type": "code",
   "execution_count": 38,
   "id": "d0d065d9-90a6-4edc-a885-4b469354434f",
   "metadata": {},
   "outputs": [],
   "source": [
    "df = pd.read_csv(\"matches.csv\")"
   ]
  },
  {
   "cell_type": "code",
   "execution_count": 5,
   "id": "dbc272f7-dddc-48c0-8ef4-813c9ed06524",
   "metadata": {},
   "outputs": [
    {
     "data": {
      "text/plain": [
       "58"
      ]
     },
     "execution_count": 5,
     "metadata": {},
     "output_type": "execute_result"
    }
   ],
   "source": [
    " #1\n",
    "a= df['season'].value_counts()\n",
    "a.sort_index(inplace=True)\n",
    "a.iloc[0]\n"
   ]
  },
  {
   "cell_type": "code",
   "execution_count": 5,
   "id": "8d5a3e41-fb94-4ca5-b755-97099baeed63",
   "metadata": {},
   "outputs": [],
   "source": [
    "df = pd.read_csv(\"matches.csv\")"
   ]
  },
  {
   "cell_type": "code",
   "execution_count": 4,
   "id": "5bd554f4-f9ec-404e-9e46-c52fe92b1525",
   "metadata": {},
   "outputs": [],
   "source": [
    "import pandas as pd"
   ]
  },
  {
   "cell_type": "code",
   "execution_count": 6,
   "id": "c6966879-0557-41b0-89bb-4c98a4a0011a",
   "metadata": {},
   "outputs": [
    {
     "name": "stdout",
     "output_type": "stream",
     "text": [
      "101\n",
      "2\n"
     ]
    }
   ],
   "source": [
    "#2 a=df['city'].value_counts()\n",
    "a.sort_index()\n",
    "f=a.iloc[0].\n",
    "l=a.iloc[-1]\n",
    "print(f)\n",
    "print(l)"
   ]
  },
  {
   "cell_type": "code",
   "execution_count": 13,
   "id": "8afa68e5-49ff-4432-96d4-1f3f4223ace9",
   "metadata": {},
   "outputs": [],
   "source": [
    "df = pd.read_csv(\"matches.csv\")"
   ]
  },
  {
   "cell_type": "code",
   "execution_count": 12,
   "id": "624497b3-596f-42bd-bfc8-e479bd5341a6",
   "metadata": {},
   "outputs": [],
   "source": [
    "import pandas as pd"
   ]
  },
  {
   "cell_type": "code",
   "execution_count": 14,
   "id": "481e1001-7c3e-43ad-99ba-5877dd2fa44d",
   "metadata": {},
   "outputs": [],
   "source": [
    "df.reset_index(inplace=True)\n"
   ]
  },
  {
   "cell_type": "code",
   "execution_count": 6,
   "id": "86a89809-272e-4342-ac75-345b9e67b8cb",
   "metadata": {},
   "outputs": [
    {
     "data": {
      "text/plain": [
       "season\n",
       "2008    58\n",
       "2009    57\n",
       "2010    60\n",
       "2011    73\n",
       "2012    74\n",
       "2013    76\n",
       "2014    60\n",
       "2015    59\n",
       "2016    60\n",
       "2017    59\n",
       "2018    60\n",
       "2019    60\n",
       "Name: count, dtype: int64"
      ]
     },
     "execution_count": 6,
     "metadata": {},
     "output_type": "execute_result"
    }
   ],
   "source": [
    " #3 a= df['city'].value_counts()\n",
    "a.sort_index()\n",
    "a"
   ]
  },
  {
   "cell_type": "code",
   "execution_count": 17,
   "id": "ed661267-0ba1-48ca-a962-802b491d1f11",
   "metadata": {},
   "outputs": [],
   "source": [
    "data= pd.read_csv('matches.csv')"
   ]
  },
  {
   "cell_type": "code",
   "execution_count": 21,
   "id": "5e64bdc4-5a85-45c4-882a-7238bf6078fd",
   "metadata": {},
   "outputs": [],
   "source": [
    "data= pd.read_csv('matches.csv')"
   ]
  },
  {
   "cell_type": "code",
   "execution_count": 22,
   "id": "b75505f6-af3b-4487-9200-e1ea83b62c13",
   "metadata": {},
   "outputs": [],
   "source": [
    "import pandas as pd"
   ]
  },
  {
   "cell_type": "code",
   "execution_count": 23,
   "id": "0d0ac23c-6fb0-4c63-acee-0d05319e2247",
   "metadata": {},
   "outputs": [],
   "source": [
    "max_toss_winner = data['toss_winner'].value_counts().idxmax()"
   ]
  },
  {
   "cell_type": "code",
   "execution_count": 24,
   "id": "7539955a-473b-4e6c-b590-f1ff1bb93acc",
   "metadata": {},
   "outputs": [],
   "source": [
    "min_toss_winner = data['toss_winner'].value_counts().idxmin()"
   ]
  },
  {
   "cell_type": "code",
   "execution_count": 25,
   "id": "0fd83d9d-a1a4-4a90-bf82-ec2fb88a0304",
   "metadata": {},
   "outputs": [
    {
     "name": "stdout",
     "output_type": "stream",
     "text": [
      "Team with Maximum Toss Wins: Mumbai Indians\n",
      "Team with Minimum Toss Wins: Rising Pune Supergiant\n"
     ]
    }
   ],
   "source": [
    "print(f\"Team with Maximum Toss Wins: {max_toss_winner}\")\n",
    "print(f\"Team with Minimum Toss Wins: {min_toss_winner}\")"
   ]
  },
  {
   "cell_type": "code",
   "execution_count": 31,
   "id": "042b199e-f455-4e55-85ea-b1f301e82d08",
   "metadata": {},
   "outputs": [],
   "source": [
    "data = pd.read_csv('matches.csv')"
   ]
  },
  {
   "cell_type": "code",
   "execution_count": 25,
   "id": "e1ef53af-2a47-441c-8cee-e867c0763509",
   "metadata": {},
   "outputs": [],
   "source": [
    "grouped_data = data.groupby(['toss_winner', 'toss_decision'])\n"
   ]
  },
  {
   "cell_type": "code",
   "execution_count": 26,
   "id": "92e0f784-a7f3-4bfa-9e44-55b6969e3724",
   "metadata": {},
   "outputs": [],
   "source": [
    "toss_decision_counts = grouped_data.size().unstack(fill_value=0)"
   ]
  },
  {
   "cell_type": "code",
   "execution_count": 27,
   "id": "fa60bcae-a15b-4dd7-9e9e-28eb34d00a9f",
   "metadata": {},
   "outputs": [],
   "source": [
    "most_common_toss_decision = toss_decision_counts.idxmax(axis=1)\n",
    "\n"
   ]
  },
  {
   "cell_type": "code",
   "execution_count": 28,
   "id": "99996d21-97fb-4888-80ee-71e225e7ddba",
   "metadata": {},
   "outputs": [
    {
     "name": "stdout",
     "output_type": "stream",
     "text": [
      "Most Common Toss Decisions:\n",
      "toss_winner\n",
      "Chennai Super Kings              bat\n",
      "Deccan Chargers                  bat\n",
      "Delhi Capitals                 field\n",
      "Delhi Daredevils               field\n",
      "Gujarat Lions                  field\n",
      "Kings XI Punjab                field\n",
      "Kochi Tuskers Kerala           field\n",
      "Kolkata Knight Riders          field\n",
      "Mumbai Indians                 field\n",
      "Pune Warriors                    bat\n",
      "Rajasthan Royals               field\n",
      "Rising Pune Supergiant         field\n",
      "Rising Pune Supergiants        field\n",
      "Royal Challengers Bangalore    field\n",
      "Sunrisers Hyderabad            field\n",
      "dtype: object\n"
     ]
    }
   ],
   "source": [
    "\n",
    "print(\"Most Common Toss Decisions:\")\n",
    "print(most_common_toss_decision)"
   ]
  },
  {
   "cell_type": "code",
   "execution_count": 32,
   "id": "9a30f66b-af31-416a-9ea6-7648394801ed",
   "metadata": {},
   "outputs": [],
   "source": [
    "data = pd.read_csv('matches.csv')"
   ]
  },
  {
   "cell_type": "code",
   "execution_count": 35,
   "id": "987f53d2-908a-41ff-9b9f-3c0f2853f15c",
   "metadata": {},
   "outputs": [],
   "source": [
    "normal_matches = (data['result'] == 'normal').sum()"
   ]
  },
  {
   "cell_type": "code",
   "execution_count": 37,
   "id": "e7ccb1c4-d523-47a5-bf57-42811c701e45",
   "metadata": {},
   "outputs": [],
   "source": [
    "tie_matches = (data['result'] == 'tie').sum()\n"
   ]
  },
  {
   "cell_type": "code",
   "execution_count": 38,
   "id": "369aff53-e0a5-4cbe-8466-5ca669d6427c",
   "metadata": {},
   "outputs": [
    {
     "name": "stdout",
     "output_type": "stream",
     "text": [
      "Total Normal Matches: 743\n",
      "Total Tie Matches: 9\n"
     ]
    }
   ],
   "source": [
    "print(\"Total Normal Matches:\", normal_matches)\n",
    "print(\"Total Tie Matches:\", tie_matches)"
   ]
  },
  {
   "cell_type": "code",
   "execution_count": 39,
   "id": "e29d821e-bceb-4330-bbfa-18f0e9a4dced",
   "metadata": {},
   "outputs": [],
   "source": [
    "data = pd.read_csv('matches.csv')"
   ]
  },
  {
   "cell_type": "code",
   "execution_count": 41,
   "id": "cb9395bd-bc4c-46e3-9d1d-9e4f9f0cf78d",
   "metadata": {},
   "outputs": [],
   "source": [
    "tie_matches = data[data['result'] == 'tie']"
   ]
  },
  {
   "cell_type": "code",
   "execution_count": 42,
   "id": "caaf1d82-acd6-4447-9b25-d599df53286d",
   "metadata": {},
   "outputs": [],
   "source": [
    "team1_in_tie = tie_matches['team1'].tolist()\n",
    "team2_in_tie = tie_matches['team2'].tolist()"
   ]
  },
  {
   "cell_type": "code",
   "execution_count": 44,
   "id": "90ec1fda-a247-4d09-85c7-18f0d2221d54",
   "metadata": {},
   "outputs": [],
   "source": [
    "teams_in_tie = team1_in_tie + team2_in_tie\n"
   ]
  },
  {
   "cell_type": "code",
   "execution_count": 46,
   "id": "9494084c-9d83-450d-b8c3-074c83fe9e01",
   "metadata": {},
   "outputs": [
    {
     "name": "stdout",
     "output_type": "stream",
     "text": [
      "Teams in Tie Matches: ['Delhi Capitals', 'Delhi Daredevils', 'Chennai Super Kings', 'Kolkata Knight Riders', 'Sunrisers Hyderabad', 'Mumbai Indians', 'Royal Challengers Bangalore', 'Rajasthan Royals', 'Kings XI Punjab', 'Gujarat Lions']\n"
     ]
    }
   ],
   "source": [
    "unique_teams_in_tie = list(set(teams_in_tie))\n",
    "\n",
    "print(\"Teams in Tie Matches:\", unique_teams_in_tie)"
   ]
  },
  {
   "cell_type": "code",
   "execution_count": 47,
   "id": "f65e16e5-300f-4fff-9325-14b53ffbf522",
   "metadata": {},
   "outputs": [],
   "source": [
    "data = pd.read_csv('matches.csv')"
   ]
  },
  {
   "cell_type": "code",
   "execution_count": 50,
   "id": "bc8ed8a0-b4fd-4c26-908d-bf9fdb124ed6",
   "metadata": {},
   "outputs": [],
   "source": [
    "max_runs_row = data[data['win_by_runs'] == data['win_by_runs'].max()]"
   ]
  },
  {
   "cell_type": "code",
   "execution_count": 52,
   "id": "0832fef9-be31-4c25-b54e-7c096e3755bb",
   "metadata": {},
   "outputs": [],
   "source": [
    "winning_team = max_runs_row['winner'].values[0]\n"
   ]
  },
  {
   "cell_type": "code",
   "execution_count": 54,
   "id": "b4fcdc2c-254a-4ff8-a240-510158bc3b15",
   "metadata": {},
   "outputs": [
    {
     "name": "stdout",
     "output_type": "stream",
     "text": [
      "Team that won with the highest runs: Mumbai Indians\n"
     ]
    }
   ],
   "source": [
    "print(\"Team that won with the highest runs:\", winning_team)"
   ]
  },
  {
   "cell_type": "code",
   "execution_count": 55,
   "id": "bc3d37b6-75b5-4c81-9840-2c51586c1b05",
   "metadata": {},
   "outputs": [],
   "source": [
    "data = pd.read_csv('matches.csv')"
   ]
  },
  {
   "cell_type": "code",
   "execution_count": 56,
   "id": "4709e64a-6cba-4fbb-a38c-10b4f391efd0",
   "metadata": {},
   "outputs": [],
   "source": [
    "min_runs_row = data[data['win_by_runs'] == data['win_by_runs'].min()]"
   ]
  },
  {
   "cell_type": "code",
   "execution_count": 57,
   "id": "3a3cec5b-d236-4a23-897f-fb1e30cd9f38",
   "metadata": {},
   "outputs": [],
   "source": [
    "winning_team = min_runs_row['winner'].values[0]\n"
   ]
  },
  {
   "cell_type": "code",
   "execution_count": 58,
   "id": "808d9592-9709-4d64-bf0b-65c823f19ae0",
   "metadata": {},
   "outputs": [
    {
     "name": "stdout",
     "output_type": "stream",
     "text": [
      "Team that won with the lowest runs: Rising Pune Supergiant\n"
     ]
    }
   ],
   "source": [
    "print(\"Team that won with the lowest runs:\", winning_team)"
   ]
  },
  {
   "cell_type": "code",
   "execution_count": 59,
   "id": "2414a6ee-0496-4d98-8ec7-3f85d49a9411",
   "metadata": {},
   "outputs": [],
   "source": [
    "data = pd.read_csv('matches.csv')"
   ]
  },
  {
   "cell_type": "code",
   "execution_count": 63,
   "id": "6da944cb-56da-496a-b840-d5fe09bca4d7",
   "metadata": {},
   "outputs": [],
   "source": [
    "player_of_match_counts = data['player_of_match'].value_counts()"
   ]
  },
  {
   "cell_type": "code",
   "execution_count": 64,
   "id": "05a0a497-cffc-4dc1-90d9-5499fc508595",
   "metadata": {},
   "outputs": [],
   "source": [
    "players_with_more_than_3_awards = player_of_match_counts[player_of_match_counts > 3]\n"
   ]
  },
  {
   "cell_type": "code",
   "execution_count": 65,
   "id": "b572d825-ac76-47ae-ad27-718c2c243f46",
   "metadata": {},
   "outputs": [
    {
     "name": "stdout",
     "output_type": "stream",
     "text": [
      "Players awarded 'Player of the Match' more than 3 times:\n",
      "player_of_match\n",
      "CH Gayle          21\n",
      "AB de Villiers    20\n",
      "RG Sharma         17\n",
      "MS Dhoni          17\n",
      "DA Warner         17\n",
      "                  ..\n",
      "SK Warne           4\n",
      "CA Lynn            4\n",
      "SS Iyer            4\n",
      "ML Hayden          4\n",
      "KH Pandya          4\n",
      "Name: count, Length: 65, dtype: int64\n"
     ]
    }
   ],
   "source": [
    "print(\"Players awarded 'Player of the Match' more than 3 times:\")\n",
    "print(players_with_more_than_3_awards)\n"
   ]
  },
  {
   "cell_type": "code",
   "execution_count": 66,
   "id": "c5dfaec6-dd17-4c04-a5bc-95ed4ad4d7e6",
   "metadata": {},
   "outputs": [],
   "source": [
    "data = pd.read_csv('matches.csv')"
   ]
  },
  {
   "cell_type": "code",
   "execution_count": 67,
   "id": "45e29eb4-b05c-48fa-a1e6-ac37d326377d",
   "metadata": {},
   "outputs": [],
   "source": [
    "max_player_of_match = data['player_of_match'].value_counts().idxmax()"
   ]
  },
  {
   "cell_type": "code",
   "execution_count": 69,
   "id": "e3305e2f-66cc-4ecc-a73a-8a3f4fa94256",
   "metadata": {},
   "outputs": [
    {
     "name": "stdout",
     "output_type": "stream",
     "text": [
      "Player awarded 'Player of the Match' the most number of times: CH Gayle\n"
     ]
    }
   ],
   "source": [
    "print(\"Player awarded 'Player of the Match' the most number of times:\", max_player_of_match)"
   ]
  },
  {
   "cell_type": "code",
   "execution_count": 70,
   "id": "125a0e0e-244f-4341-80a0-b6e1f248bfa7",
   "metadata": {},
   "outputs": [],
   "source": [
    "data = pd.read_csv('matches.csv')"
   ]
  },
  {
   "cell_type": "code",
   "execution_count": 72,
   "id": "1d24fe52-0451-41e4-b808-2ec46aa143e9",
   "metadata": {},
   "outputs": [],
   "source": [
    "max_runs_row = data[data['win_by_runs'] == data['win_by_runs'].max()]\n"
   ]
  },
  {
   "cell_type": "code",
   "execution_count": 73,
   "id": "9db418b7-6cb1-4ea0-82c2-4800aee9f176",
   "metadata": {},
   "outputs": [],
   "source": [
    "winning_venue = max_runs_row['venue'].values[0]\n"
   ]
  },
  {
   "cell_type": "code",
   "execution_count": 74,
   "id": "a7b14b04-baec-4ebd-950f-3497f528310d",
   "metadata": {},
   "outputs": [
    {
     "name": "stdout",
     "output_type": "stream",
     "text": [
      "Venue where the team won with the highest runs: Feroz Shah Kotla\n"
     ]
    }
   ],
   "source": [
    "print(\"Venue where the team won with the highest runs:\", winning_venue)"
   ]
  },
  {
   "cell_type": "code",
   "execution_count": 75,
   "id": "7df12de8-e3ea-4d4b-a572-b0d5e8777172",
   "metadata": {},
   "outputs": [],
   "source": [
    "data = pd.read_csv('matches.csv')"
   ]
  },
  {
   "cell_type": "code",
   "execution_count": 76,
   "id": "81c6177e-5617-4720-8778-411713f8dc81",
   "metadata": {},
   "outputs": [],
   "source": [
    "min_runs_row = data[data['win_by_runs'] == data['win_by_runs'].min()]\n"
   ]
  },
  {
   "cell_type": "code",
   "execution_count": 77,
   "id": "4b86607e-8598-410c-b1a2-216940e13109",
   "metadata": {},
   "outputs": [],
   "source": [
    "winning_venue = min_runs_row['venue'].values[0]\n"
   ]
  },
  {
   "cell_type": "code",
   "execution_count": 78,
   "id": "c68e2090-9937-4cb6-8785-851d97d164f8",
   "metadata": {},
   "outputs": [
    {
     "name": "stdout",
     "output_type": "stream",
     "text": [
      "Venue where the team won with the lowest runs: Maharashtra Cricket Association Stadium\n"
     ]
    }
   ],
   "source": [
    "print(\"Venue where the team won with the lowest runs:\", winning_venue)"
   ]
  },
  {
   "cell_type": "code",
   "execution_count": 79,
   "id": "dda44bde-54a8-4a37-b136-3043ea6d4751",
   "metadata": {},
   "outputs": [],
   "source": [
    "data = pd.read_csv('matches.csv')"
   ]
  },
  {
   "cell_type": "code",
   "execution_count": 81,
   "id": "101d6af8-3b91-4735-8474-199c5c12e05b",
   "metadata": {},
   "outputs": [],
   "source": [
    "umpire1_counts = data['umpire1'].value_counts()"
   ]
  },
  {
   "cell_type": "code",
   "execution_count": 82,
   "id": "2869c364-b4e2-4b84-a4d1-568f0b5a2a09",
   "metadata": {},
   "outputs": [],
   "source": [
    "umpire2_counts = data['umpire2'].value_counts()"
   ]
  },
  {
   "cell_type": "code",
   "execution_count": 83,
   "id": "77d982c9-8577-4e9e-9f50-1cbe1d957415",
   "metadata": {},
   "outputs": [],
   "source": [
    "umpire3_counts = data['umpire3'].value_counts()"
   ]
  },
  {
   "cell_type": "code",
   "execution_count": 86,
   "id": "c821462b-6620-44c8-a5a3-4fbf2cc3f508",
   "metadata": {},
   "outputs": [],
   "source": [
    "max_umpire = umpire1_counts,umpire2_counts,umpire3_counts.idxmax()"
   ]
  },
  {
   "cell_type": "code",
   "execution_count": 88,
   "id": "35858cc0-fa16-4b1e-9d80-405dfefa6bcc",
   "metadata": {},
   "outputs": [],
   "source": [
    "max_umpire_count = umpire1_counts,umpire2_counts,umpire3_counts.max()"
   ]
  },
  {
   "cell_type": "code",
   "execution_count": 89,
   "id": "6b8a85d5-46ce-4700-876d-2f8b0f63f068",
   "metadata": {},
   "outputs": [
    {
     "name": "stdout",
     "output_type": "stream",
     "text": [
      "Umpire who umpired the most times: (umpire1\n",
      "HDPK Dharmasena    73\n",
      "Asad Rauf          51\n",
      "S Ravi             49\n",
      "AK Chaudhary       43\n",
      "Aleem Dar          38\n",
      "                   ..\n",
      "Nanda Kishore       1\n",
      "SJA Taufel          1\n",
      "A Nanda Kishore     1\n",
      "SL Shastri          1\n",
      "Sundaram Ravi       1\n",
      "Name: count, Length: 61, dtype: int64, umpire2\n",
      "C Shamshuddin       57\n",
      "S Ravi              57\n",
      "SJA Taufel          54\n",
      "RJ Tucker           38\n",
      "CK Nandan           36\n",
      "                    ..\n",
      "Kumar Dharmasena     1\n",
      "SD Fry               1\n",
      "SJ Davis             1\n",
      "Subroto Das          1\n",
      "Ian Gould            1\n",
      "Name: count, Length: 65, dtype: int64, 'Nitin Menon')\n",
      "Number of times: (umpire1\n",
      "HDPK Dharmasena    73\n",
      "Asad Rauf          51\n",
      "S Ravi             49\n",
      "AK Chaudhary       43\n",
      "Aleem Dar          38\n",
      "                   ..\n",
      "Nanda Kishore       1\n",
      "SJA Taufel          1\n",
      "A Nanda Kishore     1\n",
      "SL Shastri          1\n",
      "Sundaram Ravi       1\n",
      "Name: count, Length: 61, dtype: int64, umpire2\n",
      "C Shamshuddin       57\n",
      "S Ravi              57\n",
      "SJA Taufel          54\n",
      "RJ Tucker           38\n",
      "CK Nandan           36\n",
      "                    ..\n",
      "Kumar Dharmasena     1\n",
      "SD Fry               1\n",
      "SJ Davis             1\n",
      "Subroto Das          1\n",
      "Ian Gould            1\n",
      "Name: count, Length: 65, dtype: int64, 10)\n"
     ]
    }
   ],
   "source": [
    "print(f\"Umpire who umpired the most times: {max_umpire}\")\n",
    "print(f\"Number of times: {max_umpire_count}\")\n"
   ]
  },
  {
   "cell_type": "code",
   "execution_count": 90,
   "id": "24937334-cb02-48b3-9757-e1316e4dee01",
   "metadata": {},
   "outputs": [],
   "source": [
    "data = pd.read_csv('matches.csv')"
   ]
  },
  {
   "cell_type": "code",
   "execution_count": 92,
   "id": "2c6bd4c9-0db5-40cd-abde-bc77ba8211dc",
   "metadata": {},
   "outputs": [],
   "source": [
    "season_counts = data['season'].value_counts()\n"
   ]
  },
  {
   "cell_type": "code",
   "execution_count": 93,
   "id": "3f408023-3eee-465e-aa43-f1978c335f9e",
   "metadata": {},
   "outputs": [
    {
     "name": "stdout",
     "output_type": "stream",
     "text": [
      "Total matches played in each season:\n",
      "season\n",
      "2013    76\n",
      "2012    74\n",
      "2011    73\n",
      "2010    60\n",
      "2014    60\n",
      "2016    60\n",
      "2018    60\n",
      "2019    60\n",
      "2017    59\n",
      "2015    59\n",
      "2008    58\n",
      "2009    57\n",
      "Name: count, dtype: int64\n"
     ]
    }
   ],
   "source": [
    "print(\"Total matches played in each season:\")\n",
    "print(season_counts)"
   ]
  },
  {
   "cell_type": "code",
   "execution_count": 94,
   "id": "edb995cb-a0c1-4101-8143-10bc5bc49d6e",
   "metadata": {},
   "outputs": [],
   "source": [
    "data = pd.read_csv('matches.csv')"
   ]
  },
  {
   "cell_type": "code",
   "execution_count": 95,
   "id": "9d238e9a-1d0f-43fb-b85f-c444c2371b68",
   "metadata": {},
   "outputs": [],
   "source": [
    "total_runs_by_season = data.groupby('season')['win_by_runs'].sum()\n"
   ]
  },
  {
   "cell_type": "code",
   "execution_count": 96,
   "id": "dfabcb01-488d-4d58-82ca-3504cffae66b",
   "metadata": {},
   "outputs": [
    {
     "name": "stdout",
     "output_type": "stream",
     "text": [
      "Total runs in each season:\n",
      "season\n",
      "2008     705\n",
      "2009     764\n",
      "2010     976\n",
      "2011    1098\n",
      "2012     960\n",
      "2013    1241\n",
      "2014     644\n",
      "2015     850\n",
      "2016     676\n",
      "2017     788\n",
      "2018     675\n",
      "2019     665\n",
      "Name: win_by_runs, dtype: int64\n"
     ]
    }
   ],
   "source": [
    "print(\"Total runs in each season:\")\n",
    "print(total_runs_by_season)"
   ]
  },
  {
   "cell_type": "code",
   "execution_count": 97,
   "id": "54d09218-30b7-461c-80d8-e450a9390160",
   "metadata": {},
   "outputs": [],
   "source": [
    "data = pd.read_csv('matches.csv')"
   ]
  },
  {
   "cell_type": "code",
   "execution_count": 98,
   "id": "addf6647-3229-48a3-aba5-82c1cd7addb2",
   "metadata": {},
   "outputs": [],
   "source": [
    "toss_wins = data['toss_winner'].value_counts()"
   ]
  },
  {
   "cell_type": "code",
   "execution_count": 99,
   "id": "056aa616-47f2-4df5-bd21-eca4d69ce1aa",
   "metadata": {},
   "outputs": [
    {
     "name": "stdout",
     "output_type": "stream",
     "text": [
      "Number of tosses won by each team:\n",
      "toss_winner\n",
      "Mumbai Indians                 98\n",
      "Kolkata Knight Riders          92\n",
      "Chennai Super Kings            89\n",
      "Royal Challengers Bangalore    81\n",
      "Kings XI Punjab                81\n",
      "Delhi Daredevils               80\n",
      "Rajasthan Royals               80\n",
      "Sunrisers Hyderabad            46\n",
      "Deccan Chargers                43\n",
      "Pune Warriors                  20\n",
      "Gujarat Lions                  15\n",
      "Delhi Capitals                 10\n",
      "Kochi Tuskers Kerala            8\n",
      "Rising Pune Supergiants         7\n",
      "Rising Pune Supergiant          6\n",
      "Name: count, dtype: int64\n"
     ]
    }
   ],
   "source": [
    "print(\"Number of tosses won by each team:\")\n",
    "print(toss_wins)"
   ]
  },
  {
   "cell_type": "code",
   "execution_count": 3,
   "id": "8399c50a-4d3c-4e3b-bdf1-f28a5b5df8af",
   "metadata": {},
   "outputs": [],
   "source": [
    "\n",
    "import matplotlib.pyplot as plt\n",
    "import pandas as pd\n"
   ]
  },
  {
   "cell_type": "code",
   "execution_count": 4,
   "id": "b5a590bc-2fdf-4c65-a12c-f86b225b73a2",
   "metadata": {},
   "outputs": [],
   "source": [
    "data = pd.read_csv('matches.csv')"
   ]
  },
  {
   "cell_type": "code",
   "execution_count": 5,
   "id": "2737c1e1-aa56-45f3-810c-0b74b681d31f",
   "metadata": {
    "scrolled": true
   },
   "outputs": [
    {
     "data": {
      "image/png": "[encoded data removed]",
      "text/plain": [
       "<Figure size 640x480 with 1 Axes>"
      ]
     },
     "metadata": {},
     "output_type": "display_data"
    },
    {
     "data": {
      "image/png": "[encoded data removed]",
      "text/plain": [
       "<Figure size 1400x700 with 1 Axes>"
      ]
     },
     "metadata": {},
     "output_type": "display_data"
    }
   ],
   "source": [
    "plt.title(\"Toss Decision Across Seasons\")\n",
    "plt.xlabel(\"Season\")\n",
    "plt.ylabel(\"Count\")\n",
    "plt.figure(figsize=(14, 7))\n",
    "plt.legend(title=\"Toss Decision\", labels=[\"Bat\", \"Field\"])\n",
    "plt.show()\n"
   ]
  },
  {
   "cell_type": "code",
   "execution_count": 6,
   "id": "61f714ea-a91f-48c1-8e3a-e54ac9a4133a",
   "metadata": {},
   "outputs": [],
   "source": [
    "data = pd.read_csv('matches.csv')"
   ]
  },
  {
   "cell_type": "code",
   "execution_count": 7,
   "id": "74d717d5-d0ac-4ed8-bed7-d84bdc99f065",
   "metadata": {},
   "outputs": [
    {
     "data": {
      "image/png": "[encoded data removed]",
      "text/plain": [
       "<Figure size 1200x600 with 1 Axes>"
      ]
     },
     "metadata": {},
     "output_type": "display_data"
    }
   ],
   "source": [
    "plt.figure(figsize=(12, 6))\n",
    "plt.title(\"Dismissal Kinds\")\n",
    "plt.xlabel(\"Dismissal Kind\")\n",
    "plt.ylabel(\"Count\")\n",
    "plt.xticks(rotation=90)\n",
    "plt.show()"
   ]
  },
  {
   "cell_type": "code",
   "execution_count": 8,
   "id": "fef2d3c3-22b6-45a6-84c3-b90269f55c80",
   "metadata": {},
   "outputs": [],
   "source": [
    "data = pd.read_csv('matches.csv')"
   ]
  },
  {
   "cell_type": "code",
   "execution_count": 10,
   "id": "2c197e9a-e271-4eca-909c-3b0cfb7d6836",
   "metadata": {},
   "outputs": [],
   "source": [
    "top_10_runs = data.nlargest(10, 'win_by_runs')"
   ]
  },
  {
   "cell_type": "code",
   "execution_count": 11,
   "id": "31712f06-c53d-4c9a-b7c6-56132db52042",
   "metadata": {},
   "outputs": [
    {
     "data": {
      "image/png": "[encoded data removed]",
      "text/plain": [
       "<Figure size 640x480 with 1 Axes>"
      ]
     },
     "metadata": {},
     "output_type": "display_data"
    },
    {
     "data": {
      "image/png": "[encoded data removed]",
      "text/plain": [
       "<Figure size 1200x600 with 1 Axes>"
      ]
     },
     "metadata": {},
     "output_type": "display_data"
    }
   ],
   "source": [
    "plt.title(\"Top 10 Run Scorers in IPL\")\n",
    "plt.xlabel(\"Runs Scored\")\n",
    "plt.ylabel(\"Player\")\n",
    "plt.figure(figsize=(12, 6))\n",
    "plt.xticks(rotation=0)\n",
    "plt.show()"
   ]
  },
  {
   "cell_type": "code",
   "execution_count": 12,
   "id": "e50e7938-f83b-4cef-84f9-3348fd0fe724",
   "metadata": {},
   "outputs": [],
   "source": [
    "data = pd.read_csv('matches.csv')"
   ]
  },
  {
   "cell_type": "code",
   "execution_count": 14,
   "id": "be1e6d0e-fd1e-4dac-9b94-fabc0fbe78d5",
   "metadata": {},
   "outputs": [],
   "source": [
    "data_sorted = data.sort_values(by='player_of_match', ascending=False)"
   ]
  },
  {
   "cell_type": "code",
   "execution_count": 15,
   "id": "3734d79f-8a25-4749-8763-57440ff2ac60",
   "metadata": {},
   "outputs": [],
   "source": [
    "top_n = 10\n",
    "top_players = data_sorted.head(top_n)\n"
   ]
  },
  {
   "cell_type": "code",
   "execution_count": 36,
   "id": "8b973baf-7552-44a4-a5da-45ddc92197b4",
   "metadata": {},
   "outputs": [
    {
     "data": {
      "image/png": "[encoded data removed]",
      "text/plain": [
       "<Figure size 1200x600 with 1 Axes>"
      ]
     },
     "metadata": {},
     "output_type": "display_data"
    }
   ],
   "source": [
    "plt.figure(figsize=(12, 6))\n",
    "plt.title(\"Top Man of the Match Award Winners\")\n",
    "plt.bar(top_players\t['player_of_match'], top_players['player_of_match'], color='royalblue')\n",
    "plt.xlabel(\"Player\")\n",
    "plt.ylabel(\"Number of MOM Awards\")\n",
    "plt.xticks(rotation=45, ha='right')\n",
    "plt.show()"
   ]
  },
  {
   "cell_type": "code",
   "execution_count": 21,
   "id": "a2c0071a-dea8-40ba-831b-291c2e863888",
   "metadata": {},
   "outputs": [],
   "source": [
    "data = pd.read_csv('matches.csv')"
   ]
  },
  {
   "cell_type": "code",
   "execution_count": 24,
   "id": "42b51955-aae9-4685-a44a-1091f7013123",
   "metadata": {},
   "outputs": [],
   "source": [
    "total_matches_played = data['team1'].value_counts()\n"
   ]
  },
  {
   "cell_type": "code",
   "execution_count": 25,
   "id": "b247c0ef-c604-4ecf-b3cf-f7df82197f76",
   "metadata": {},
   "outputs": [],
   "source": [
    "total_matches_played = data['team2'].value_counts()"
   ]
  },
  {
   "cell_type": "code",
   "execution_count": 27,
   "id": "ed88f77a-8506-447b-8d45-2a55273efb2e",
   "metadata": {},
   "outputs": [],
   "source": [
    "total_winning_matches = data[data['result'] == 'win']['team1'].value_counts()\n"
   ]
  },
  {
   "cell_type": "code",
   "execution_count": 28,
   "id": "6edf2737-054e-4b34-b71a-cae6d69f9725",
   "metadata": {},
   "outputs": [],
   "source": [
    "total_winning_matches = data[data['result'] == 'win']['team2'].value_counts()\n"
   ]
  },
  {
   "cell_type": "code",
   "execution_count": 29,
   "id": "307e6e30-71f9-43e5-84f9-d19df1401d12",
   "metadata": {},
   "outputs": [],
   "source": [
    "win_rate = (total_winning_matches / total_matches_played) * 100"
   ]
  },
  {
   "cell_type": "code",
   "execution_count": 31,
   "id": "528406cc-0ede-48d9-8d3a-c1d14e6165c4",
   "metadata": {},
   "outputs": [
    {
     "data": {
      "image/png": "[encoded data removed]",
      "text/plain": [
       "<Figure size 640x480 with 1 Axes>"
      ]
     },
     "metadata": {},
     "output_type": "display_data"
    }
   ],
   "source": [
    "plt.title(\"Comparison of Total Matches Played, Total Winning Matches, and Win Rate\")\n",
    "plt.xlabel(\"Team\")\n",
    "plt.bar(total_matches_played.index, total_matches_played.values, color='royalblue', label='Total Matches Played')\n",
    "plt.bar(total_winning_matches.index, total_winning_matches.values, color='limegreen', label='Total Winning Matches')\n",
    "plt.ylabel(\"Count / Percentage\")\n",
    "plt.xticks(rotation=45, ha='right')\n",
    "plt.legend()\n",
    "plt.show()"
   ]
  },
  {
   "cell_type": "code",
   "execution_count": 2,
   "id": "e657357f-7c40-4f6f-89cc-7cb944efcc1d",
   "metadata": {},
   "outputs": [],
   "source": [
    "import pandas as pd\n",
    "import matplotlib.pyplot as plt\n"
   ]
  },
  {
   "cell_type": "code",
   "execution_count": 3,
   "id": "852cb752-a30c-40b9-9b85-1fa615b373c3",
   "metadata": {},
   "outputs": [],
   "source": [
    "data = pd.read_csv('matches.csv')"
   ]
  },
  {
   "cell_type": "code",
   "execution_count": 5,
   "id": "80108f3c-2f24-4a51-a769-17027241434d",
   "metadata": {},
   "outputs": [],
   "source": [
    "total_matches_played = data['team1'].value_counts()"
   ]
  },
  {
   "cell_type": "code",
   "execution_count": 6,
   "id": "8fa49b04-90d0-4717-a56c-50989ae26a4e",
   "metadata": {},
   "outputs": [],
   "source": [
    "total_matches_played = data['team2'].value_counts()"
   ]
  },
  {
   "cell_type": "code",
   "execution_count": 47,
   "id": "14fd3263-87d0-4024-81c7-0a57f32831b4",
   "metadata": {},
   "outputs": [
    {
     "name": "stdout",
     "output_type": "stream",
     "text": [
      "Series([], Name: count, dtype: int64)\n"
     ]
    }
   ],
   "source": [
    "total_winning_matches = data[data['result'] == 'win']['team1'].value_counts()\n",
    "print(total_winning_matches)"
   ]
  },
  {
   "cell_type": "code",
   "execution_count": 8,
   "id": "2321af70-c6cc-4a5f-982b-376ffa897d54",
   "metadata": {},
   "outputs": [],
   "source": [
    "total_winning_matches = data[data['result'] == 'win']['team2'].value_counts()\n"
   ]
  },
  {
   "cell_type": "code",
   "execution_count": 9,
   "id": "d9dd4521-ca04-457f-adb6-42e8433b66ea",
   "metadata": {},
   "outputs": [],
   "source": [
    "ratio = total_matches_played / total_winning_matches"
   ]
  },
  {
   "cell_type": "code",
   "execution_count": 10,
   "id": "5eb88710-7923-46df-83c8-e1dac67b5db1",
   "metadata": {},
   "outputs": [
    {
     "name": "stdout",
     "output_type": "stream",
     "text": [
      "Ratio of Total Matches Played to Total Winning Matches:\n",
      "team2\n",
      "Royal Challengers Bangalore   NaN\n",
      "Kolkata Knight Riders         NaN\n",
      "Delhi Daredevils              NaN\n",
      "Mumbai Indians                NaN\n",
      "Kings XI Punjab               NaN\n",
      "Rajasthan Royals              NaN\n",
      "Chennai Super Kings           NaN\n",
      "Sunrisers Hyderabad           NaN\n",
      "Deccan Chargers               NaN\n",
      "Pune Warriors                 NaN\n",
      "Gujarat Lions                 NaN\n",
      "Delhi Capitals                NaN\n",
      "Rising Pune Supergiant        NaN\n",
      "Kochi Tuskers Kerala          NaN\n",
      "Rising Pune Supergiants       NaN\n",
      "Name: count, dtype: float64\n"
     ]
    }
   ],
   "source": [
    "print(\"Ratio of Total Matches Played to Total Winning Matches:\")\n",
    "print(ratio)"
   ]
  },
  {
   "cell_type": "code",
   "execution_count": 11,
   "id": "7d0fd83f-719a-471e-b033-acc4bbb18711",
   "metadata": {},
   "outputs": [],
   "source": [
    "data = pd.read_csv('matches.csv')"
   ]
  },
  {
   "cell_type": "code",
   "execution_count": 12,
   "id": "95d63f85-e001-4922-98f2-e000a2896a14",
   "metadata": {},
   "outputs": [],
   "source": [
    "toss_decision_data = data[['team1', 'toss_decision']]"
   ]
  },
  {
   "cell_type": "code",
   "execution_count": 13,
   "id": "2cafa6b6-daf2-4291-a819-b6efb49e82e3",
   "metadata": {},
   "outputs": [],
   "source": [
    "toss_decision_data = data[['team2', 'toss_decision']]"
   ]
  },
  {
   "cell_type": "code",
   "execution_count": 14,
   "id": "41ecdfc5-6921-4726-a821-49e79bf13256",
   "metadata": {},
   "outputs": [
    {
     "name": "stdout",
     "output_type": "stream",
     "text": [
      "Choice of each team after winning the toss:\n",
      "                           team2 toss_decision\n",
      "0    Royal Challengers Bangalore         field\n",
      "1         Rising Pune Supergiant         field\n",
      "2          Kolkata Knight Riders         field\n",
      "3                Kings XI Punjab         field\n",
      "4               Delhi Daredevils           bat\n",
      "..                           ...           ...\n",
      "751               Mumbai Indians         field\n",
      "752               Mumbai Indians           bat\n",
      "753               Delhi Capitals         field\n",
      "754          Chennai Super Kings         field\n",
      "755          Chennai Super Kings           bat\n",
      "\n",
      "[756 rows x 2 columns]\n"
     ]
    }
   ],
   "source": [
    "print(\"Choice of each team after winning the toss:\")\n",
    "print(toss_decision_data)"
   ]
  },
  {
   "cell_type": "code",
   "execution_count": 34,
   "id": "cb4c304d-a2a3-4f94-85c1-754e4e12ba19",
   "metadata": {},
   "outputs": [],
   "source": [
    "import pandas as pd\n",
    "import matplotlib.pyplot as plt"
   ]
  },
  {
   "cell_type": "code",
   "execution_count": 33,
   "id": "a2c037cd-6ab6-41c9-b545-547aee5d7959",
   "metadata": {},
   "outputs": [],
   "source": [
    "data= pd.read_csv('matches.csv')"
   ]
  },
  {
   "cell_type": "code",
   "execution_count": 35,
   "id": "b29f340b-6ebe-4493-b5a1-f52c9818cbea",
   "metadata": {},
   "outputs": [],
   "source": [
    "toss_decision_counts = data.groupby(['season', 'toss_decision']).size().unstack()\n"
   ]
  },
  {
   "cell_type": "code",
   "execution_count": 36,
   "id": "161980ef-e12f-4058-aee8-79767b266cd8",
   "metadata": {},
   "outputs": [
    {
     "data": {
      "image/png": "[encoded data removed]",
      "text/plain": [
       "<Figure size 1200x600 with 1 Axes>"
      ]
     },
     "metadata": {},
     "output_type": "display_data"
    }
   ],
   "source": [
    "toss_decision_counts.plot(kind='bar', stacked=True, colormap='viridis', figsize=(12, 6))\n",
    "plt.title(\"Toss Decisions Across Seasons\")\n",
    "plt.xlabel(\"Season\")\n",
    "plt.ylabel(\"Count\")\n",
    "plt.legend(title=\"Toss Decision\", labels=[\"Bat\", \"Field\"])\n",
    "plt.xticks(rotation=45)\n",
    "plt.show()"
   ]
  },
  {
   "cell_type": "code",
   "execution_count": 37,
   "id": "9e9a7bc2-642f-406b-9867-8bc217d5ed7c",
   "metadata": {},
   "outputs": [],
   "source": [
    "data= pd.read_csv('matches.csv')"
   ]
  },
  {
   "cell_type": "code",
   "execution_count": 43,
   "id": "f6cf4d22-e6ee-4e93-917c-5d6d577e430b",
   "metadata": {},
   "outputs": [],
   "source": [
    "top_10_runs_scorers = data.sort_values(by='win_by_runs', ascending=False).head(10)"
   ]
  },
  {
   "cell_type": "code",
   "execution_count": 46,
   "id": "ef520977-2123-4b78-bbc8-b025c5ae5558",
   "metadata": {},
   "outputs": [
    {
     "data": {
      "image/png": "[encoded data removed]",
      "text/plain": [
       "<Figure size 1200x600 with 1 Axes>"
      ]
     },
     "metadata": {},
     "output_type": "display_data"
    }
   ],
   "source": [
    "plt.figure(figsize=(12, 6))\n",
    "plt.bar(top_10_runs_scorers['player_of_match'], top_10_runs_scorers['win_by_runs'], color='royalblue')\n",
    "plt.title(\"Top 10 IPL Run Scorers\")\n",
    "plt.xlabel(\"Player\")\n",
    "plt.ylabel(\"Runs Scored\")\n",
    "plt.xticks(rotation=45, ha='right')\n",
    "plt.show()"
   ]
  },
  {
   "cell_type": "code",
   "execution_count": null,
   "id": "50fbe918-80ba-493d-a8f5-c9c72ca73098",
   "metadata": {},
   "outputs": [],
   "source": []
  }
 ],
 "metadata": {
  "kernelspec": {
   "display_name": "Python 3 (ipykernel)",
   "language": "python",
   "name": "python3"
  },
  "language_info": {
   "codemirror_mode": {
    "name": "ipython",
    "version": 3
   },
   "file_extension": ".py",
   "mimetype": "text/x-python",
   "name": "python",
   "nbconvert_exporter": "python",
   "pygments_lexer": "ipython3",
   "version": "3.12.0"
  }
 },
 "nbformat": 4,
 "nbformat_minor": 5
}
